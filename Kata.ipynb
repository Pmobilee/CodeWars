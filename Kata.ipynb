{
 "cells": [
  {
   "attachments": {},
   "cell_type": "markdown",
   "metadata": {},
   "source": [
    "# 8 Kyu"
   ]
  },
  {
   "attachments": {},
   "cell_type": "markdown",
   "metadata": {},
   "source": [
    "## 1 Trolls are attacking your comment section! A common way to deal with this situation is to remove all of the vowels from the trolls' comments, neutralizing the threat. Your task is to write a function that takes a string and return a new string with all vowels removed. For example, the string \"This website is for losers LOL!\" would become \"Ths wbst s fr lsrs LL!\".\n",
    "\n",
    "Note: for this kata y isn't considered a vowel."
   ]
  },
  {
   "cell_type": "code",
   "execution_count": 2,
   "metadata": {},
   "outputs": [
    {
     "data": {
      "text/plain": [
       "'Ths wbst s fr lsrs LL!'"
      ]
     },
     "execution_count": 2,
     "metadata": {},
     "output_type": "execute_result"
    }
   ],
   "source": [
    "def disemvowel(string_):\n",
    "    vowels = \"AEIOUaeiou\"\n",
    "    for vowel in vowels:\n",
    "        string_ = string_.replace(vowel, \"\")\n",
    "    return string_\n",
    "\n",
    "disemvowel(\"This website is for losers LOL!\")"
   ]
  },
  {
   "attachments": {},
   "cell_type": "markdown",
   "metadata": {},
   "source": [
    "## 2 Your task is to make a function that can take any non-negative integer as an argument and return it with its digits in descending order. Essentially, rearrange the digits to create the highest possible number.\n",
    "\n",
    "Examples:\n",
    "* Input: 42145 Output: 54421\n",
    "* Input: 145263 Output: 654321\n",
    "* Input: 123456789 Output: 987654321"
   ]
  },
  {
   "cell_type": "code",
   "execution_count": 22,
   "metadata": {},
   "outputs": [
    {
     "data": {
      "text/plain": [
       "65543"
      ]
     },
     "execution_count": 22,
     "metadata": {},
     "output_type": "execute_result"
    }
   ],
   "source": [
    "def descending_order(num):\n",
    "    num = list(str(num))\n",
    "    sorted = []\n",
    "    while len(num) > 0:\n",
    "        sorted.append(num.pop(num.index(max(num))))\n",
    "\n",
    "    return int(\"\".join(sorted))\n",
    "\n",
    "descending_order(45356)"
   ]
  },
  {
   "attachments": {},
   "cell_type": "markdown",
   "metadata": {},
   "source": [
    "## 3 Replace With Alphabet Position\n",
    "\n",
    "Welcome.\n",
    "\n",
    "In this kata you are required to, given a string, replace every letter with its position in the alphabet. If anything in the text isn't a letter, ignore it and don't return it.\n",
    "\n",
    "\"a\" = 1, \"b\" = 2, etc.\n",
    "\n",
    "Example:\n",
    "\n",
    "*alphabet_position(\"The sunset sets at twelve o' clock.\") Should return \"20 8 5 19 21 14 19 5 20 19 5 20 19 1 20 20 23 5 12 22 5 15 3 12 15 3 11\" ( as a string)"
   ]
  },
  {
   "cell_type": "code",
   "execution_count": 31,
   "metadata": {},
   "outputs": [
    {
     "data": {
      "text/plain": [
       "'1 2 3 4'"
      ]
     },
     "execution_count": 31,
     "metadata": {},
     "output_type": "execute_result"
    }
   ],
   "source": [
    "def alphabet_position(text):\n",
    "    text = list(text)\n",
    "    nums = []\n",
    "\n",
    "    for char in text:\n",
    "        if char.isalpha():\n",
    "            nums.append(str(ord(char.lower()) - 96))\n",
    "    return \" \".join(nums)\n",
    "\n",
    "alphabet_position(\"A B CD\")"
   ]
  },
  {
   "attachments": {},
   "cell_type": "markdown",
   "metadata": {},
   "source": [
    "## 4 Rank Up\n",
    "\n",
    "Implement the function unique_in_order which takes as argument a sequence and returns a list of items without any elements with the same value next to each other and preserving the original order of elements.\n",
    "\n",
    "For example:\n",
    "\n",
    "```python\n",
    "unique_in_order('AAAABBBCCDAABBB') == ['A', 'B', 'C', 'D', 'A', 'B']\n",
    "unique_in_order('ABBCcAD')         == ['A', 'B', 'C', 'c', 'A', 'D']\n",
    "unique_in_order([1, 2, 2, 3, 3])   == [1, 2, 3]\n",
    "unique_in_order((1, 2, 2, 3, 3))   == [1, 2, 3]\n",
    "```"
   ]
  },
  {
   "cell_type": "code",
   "execution_count": 56,
   "metadata": {},
   "outputs": [
    {
     "data": {
      "text/plain": [
       "[]"
      ]
     },
     "execution_count": 56,
     "metadata": {},
     "output_type": "execute_result"
    }
   ],
   "source": [
    "def unique_in_order(sequence):\n",
    "    if len(sequence) == 0:\n",
    "        return []\n",
    "    order = []\n",
    "    order.append(sequence[0])\n",
    "    for i, letter in enumerate(sequence[1:]):\n",
    "        if letter != order[-1]:\n",
    "            order.append(letter)\n",
    "    return order\n",
    "\n",
    "\n",
    "unique_in_order([])"
   ]
  },
  {
   "attachments": {},
   "cell_type": "markdown",
   "metadata": {},
   "source": [
    "## 5 Binary Addition\n",
    "\n",
    "Implement a function that adds two numbers together and returns their sum in binary. The conversion can be done before, or after the addition. The binary number returned should be a string.\n",
    "\n",
    "Examples:(Input1, Input2 --> Output (explanation)))\n",
    "\n",
    "```python\n",
    "1, 1 --> \"10\" (1 + 1 = 2 in decimal or 10 in binary)\n",
    "5, 9 --> \"1110\" (5 + 9 = 14 in decimal or 1110 in binary)\n",
    "```"
   ]
  },
  {
   "cell_type": "code",
   "execution_count": 69,
   "metadata": {},
   "outputs": [
    {
     "data": {
      "text/plain": [
       "'1101'"
      ]
     },
     "execution_count": 69,
     "metadata": {},
     "output_type": "execute_result"
    }
   ],
   "source": [
    "def add_binary(a,b):\n",
    "    num = a + b\n",
    "    binary = []\n",
    "    while num != 0:\n",
    "        binary.append(str(num % 2))\n",
    "        num = num // 2\n",
    "    binary.reverse()\n",
    "    return \"\".join(binary)\n",
    "\n",
    "\n",
    "add_binary(6, 7)"
   ]
  },
  {
   "attachments": {},
   "cell_type": "markdown",
   "metadata": {},
   "source": [
    "# 7 Kyu"
   ]
  },
  {
   "attachments": {},
   "cell_type": "markdown",
   "metadata": {},
   "source": [
    "## 1 The supermarket Queue\n",
    "\n",
    "There is a queue for the self-checkout tills at the supermarket. Your task is write a function to calculate the total time required for all the customers to check out!\n",
    "\n",
    "* input: customers: an array of positive integers representing the queue. Each integer represents a customer, and its value is the amount of time they require to check out.\n",
    "* n: a positive integer, the number of checkout tills.\n",
    "\n",
    "The function should return an integer, the total time required.\n",
    "\n",
    "\n",
    "```python\n",
    "queue_time([5,3,4], 1)\n",
    "# should return 12\n",
    "# because when n=1, the total time is just the sum of the times\n",
    "\n",
    "queue_time([10,2,3,3], 2)\n",
    "# should return 10\n",
    "# because here n=2 and the 2nd, 3rd, and 4th people in the \n",
    "# queue finish before the 1st person has finished.\n",
    "\n",
    "queue_time([2,3,10], 2)\n",
    "# should return 12\n",
    "```\n",
    "\n",
    "* There is only ONE queue serving many tills, and\n",
    "* The order of the queue NEVER changes, and\n",
    "* The front person in the queue (i.e. the first element in the array/list) proceeds to a till as soon as it becomes free."
   ]
  },
  {
   "cell_type": "code",
   "execution_count": 41,
   "metadata": {},
   "outputs": [
    {
     "name": "stdout",
     "output_type": "stream",
     "text": [
      "pop\n",
      "pop\n",
      "pop\n",
      "pop\n",
      "pop\n",
      "pop\n"
     ]
    },
    {
     "data": {
      "text/plain": [
       "9"
      ]
     },
     "execution_count": 41,
     "metadata": {},
     "output_type": "execute_result"
    }
   ],
   "source": [
    "def queue_time(customers, n):\n",
    "    tillers = [[] for x in range(n)]\n",
    "    start = True\n",
    "    wait = 0\n",
    "    while any(customers):\n",
    "        \n",
    "        while any(tillers) or start == True:\n",
    "            start = False\n",
    "            \n",
    "            for till in range(len(tillers)):\n",
    "                if tillers[till] == [0]:\n",
    "                    print(\"pop\")\n",
    "                    tillers[till].pop(0)\n",
    "                if not any(tillers[till]):\n",
    "                    if any(customers):\n",
    "                        tillers[till].append(customers[0])\n",
    "                        customers.pop(0)\n",
    "                    else:\n",
    "                        if not any(tillers):\n",
    "                            return wait\n",
    "\n",
    "                   \n",
    "                if any(tillers[till]):\n",
    "                    tillers[till][0] = tillers[till][0] -1\n",
    "                \n",
    "            wait += 1\n",
    "    return wait\n",
    "\n",
    "\n",
    "\n",
    "queue_time([2,2,3,3,4,4], 2)"
   ]
  },
  {
   "cell_type": "code",
   "execution_count": 33,
   "metadata": {},
   "outputs": [
    {
     "data": {
      "text/plain": [
       "[]"
      ]
     },
     "execution_count": 33,
     "metadata": {},
     "output_type": "execute_result"
    }
   ],
   "source": []
  }
 ],
 "metadata": {
  "kernelspec": {
   "display_name": "Python 3",
   "language": "python",
   "name": "python3"
  },
  "language_info": {
   "codemirror_mode": {
    "name": "ipython",
    "version": 3
   },
   "file_extension": ".py",
   "mimetype": "text/x-python",
   "name": "python",
   "nbconvert_exporter": "python",
   "pygments_lexer": "ipython3",
   "version": "3.10.6"
  },
  "orig_nbformat": 4,
  "vscode": {
   "interpreter": {
    "hash": "4ebb652c7e935075b0a422c0d1b433309994f32ed4cfc553b7cfde93326650e0"
   }
  }
 },
 "nbformat": 4,
 "nbformat_minor": 2
}
